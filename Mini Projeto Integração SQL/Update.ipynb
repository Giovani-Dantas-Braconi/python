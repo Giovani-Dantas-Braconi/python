{
 "cells": [
  {
   "cell_type": "markdown",
   "metadata": {},
   "source": [
    "# UPDATE NO BANCO DE DADOS \n"
   ]
  },
  {
   "cell_type": "code",
   "execution_count": 4,
   "metadata": {},
   "outputs": [
    {
     "name": "stdout",
     "output_type": "stream",
     "text": [
      "Conexão Bem sucedida\n"
     ]
    }
   ],
   "source": [
    "import pyodbc\n",
    "\n",
    "dados_conexao = (\"Driver={SQLite3 ODBC Driver};\"\n",
    "            \"Server=localhost;\"\n",
    "            \"Database=chinook.db;\")\n",
    "\n",
    "#caso precisasse de login e senha:\n",
    "#dados_conexao = (\"Driver={Seu_Driver};\"\n",
    "#            \"Server=Seu_Servidor;\"\n",
    "#            \"Database=NomeBaseDeDados;\"\n",
    "#            \"UID=Login;\"\n",
    "#            \"PWD=Senha;\")\n",
    "\n",
    "\n",
    "conexao = pyodbc.connect(dados_conexao)\n",
    "print('Conexão Bem sucedida')\n",
    "\n",
    "cursor = conexao.cursor()\n",
    "\n"
   ]
  },
  {
   "cell_type": "code",
   "execution_count": 6,
   "metadata": {},
   "outputs": [],
   "source": [
    "cursor.execute(\"UPDATE customers SET Email = 'Lira@gmail.com' WHERE Email = 'luisg@embraer.com.br'\")\n",
    "cursor.commit()"
   ]
  },
  {
   "cell_type": "code",
   "execution_count": 7,
   "metadata": {},
   "outputs": [],
   "source": [
    "cursor.close()\n",
    "conexao.close()"
   ]
  }
 ],
 "metadata": {
  "kernelspec": {
   "display_name": "Python 3",
   "language": "python",
   "name": "python3"
  },
  "language_info": {
   "codemirror_mode": {
    "name": "ipython",
    "version": 3
   },
   "file_extension": ".py",
   "mimetype": "text/x-python",
   "name": "python",
   "nbconvert_exporter": "python",
   "pygments_lexer": "ipython3",
   "version": "3.12.3"
  }
 },
 "nbformat": 4,
 "nbformat_minor": 2
}
