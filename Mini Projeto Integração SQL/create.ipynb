{
 "cells": [
  {
   "cell_type": "markdown",
   "metadata": {},
   "source": [
    "# Essa é a parte padrão que define o cursor e a conexão "
   ]
  },
  {
   "cell_type": "code",
   "execution_count": 1,
   "metadata": {},
   "outputs": [
    {
     "name": "stdout",
     "output_type": "stream",
     "text": [
      "Conexão Bem sucedida\n"
     ]
    }
   ],
   "source": [
    "import pyodbc\n",
    "\n",
    "dados_conexao = (\"Driver={SQLite3 ODBC Driver};\"\n",
    "            \"Server=localhost;\"\n",
    "            \"Database=chinook.db;\")\n",
    "\n",
    "#caso precisasse de login e senha:\n",
    "#dados_conexao = (\"Driver={Seu_Driver};\"\n",
    "#            \"Server=Seu_Servidor;\"\n",
    "#            \"Database=NomeBaseDeDados;\"\n",
    "#            \"UID=Login;\"\n",
    "#            \"PWD=Senha;\")\n",
    "\n",
    "\n",
    "conexao = pyodbc.connect(dados_conexao)\n",
    "print('Conexão Bem sucedida')\n",
    "\n",
    "cursor = conexao.cursor()\n"
   ]
  },
  {
   "cell_type": "markdown",
   "metadata": {},
   "source": [
    "# Agora vai ser o Create"
   ]
  },
  {
   "cell_type": "code",
   "execution_count": 3,
   "metadata": {},
   "outputs": [],
   "source": [
    "cursor.execute(\"\"\"\n",
    "INSERT INTO albums (Title, ArtistId)\n",
    "               VALUES \n",
    "               ('Lira Rock', 4)               \n",
    "\n",
    "               \"\"\")\n",
    "\n",
    "cursor.commit()\n"
   ]
  },
  {
   "cell_type": "markdown",
   "metadata": {},
   "source": [
    "# FECHAR "
   ]
  },
  {
   "cell_type": "code",
   "execution_count": 4,
   "metadata": {},
   "outputs": [],
   "source": [
    "cursor.close()\n",
    "conexao.close()"
   ]
  }
 ],
 "metadata": {
  "kernelspec": {
   "display_name": "Python 3",
   "language": "python",
   "name": "python3"
  },
  "language_info": {
   "codemirror_mode": {
    "name": "ipython",
    "version": 3
   },
   "file_extension": ".py",
   "mimetype": "text/x-python",
   "name": "python",
   "nbconvert_exporter": "python",
   "pygments_lexer": "ipython3",
   "version": "3.12.3"
  }
 },
 "nbformat": 4,
 "nbformat_minor": 2
}
