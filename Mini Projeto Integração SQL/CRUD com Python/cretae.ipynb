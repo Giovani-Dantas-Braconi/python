{
 "cells": [
  {
   "cell_type": "markdown",
   "metadata": {},
   "source": [
    "# COMEÇANDO A FZR O CRUD, CREATE "
   ]
  },
  {
   "cell_type": "code",
   "execution_count": 15,
   "metadata": {},
   "outputs": [
    {
     "ename": "AttributeError",
     "evalue": "module 'pyodbc' has no attribute 'conect'",
     "output_type": "error",
     "traceback": [
      "\u001b[1;31m---------------------------------------------------------------------------\u001b[0m",
      "\u001b[1;31mAttributeError\u001b[0m                            Traceback (most recent call last)",
      "Cell \u001b[1;32mIn[15], line 5\u001b[0m\n\u001b[0;32m      1\u001b[0m \u001b[38;5;28;01mimport\u001b[39;00m \u001b[38;5;21;01mpyodbc\u001b[39;00m\n\u001b[0;32m      3\u001b[0m dados_conexao \u001b[38;5;241m=\u001b[39m (\u001b[38;5;124m\"\u001b[39m\u001b[38;5;124mDriver = \u001b[39m\u001b[38;5;124m{\u001b[39m\u001b[38;5;124mSQLite3 ODBC Driver};Server = localhost;Database = chinook.db\u001b[39m\u001b[38;5;124m\"\u001b[39m)\n\u001b[1;32m----> 5\u001b[0m conexao \u001b[38;5;241m=\u001b[39m \u001b[43mpyodbc\u001b[49m\u001b[38;5;241;43m.\u001b[39;49m\u001b[43mconect\u001b[49m(dados_conexao)\n\u001b[0;32m      7\u001b[0m cursor \u001b[38;5;241m=\u001b[39m conexao\u001b[38;5;241m.\u001b[39mcursos()\n",
      "\u001b[1;31mAttributeError\u001b[0m: module 'pyodbc' has no attribute 'conect'"
     ]
    }
   ],
   "source": [
    "import pyodbc\n",
    "\n",
    "dados_conexao = (\"Driver = {SQLite3 ODBC Driver};Server = localhost;Database = chinook.db\")\n",
    "\n",
    "conexao = pyodbc.conect(dados_conexao)\n",
    "\n",
    "cursor = conexao.cursos()"
   ]
  }
 ],
 "metadata": {
  "kernelspec": {
   "display_name": "Python 3",
   "language": "python",
   "name": "python3"
  },
  "language_info": {
   "codemirror_mode": {
    "name": "ipython",
    "version": 3
   },
   "file_extension": ".py",
   "mimetype": "text/x-python",
   "name": "python",
   "nbconvert_exporter": "python",
   "pygments_lexer": "ipython3",
   "version": "3.12.2"
  }
 },
 "nbformat": 4,
 "nbformat_minor": 2
}
