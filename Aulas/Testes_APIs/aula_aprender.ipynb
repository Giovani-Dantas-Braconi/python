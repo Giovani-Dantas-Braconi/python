{
 "cells": [
  {
   "cell_type": "code",
   "execution_count": 4,
   "metadata": {},
   "outputs": [
    {
     "name": "stdout",
     "output_type": "stream",
     "text": [
      "{'USD': {'code': 'USD', 'codein': 'BRL', 'name': 'Dólar Americano/Real Brasileiro', 'high': '4.9461', 'low': '4.9194', 'varBid': '0.0088', 'pctChange': '0.18', 'bid': '4.9358', 'ask': '4.9368', 'timestamp': '1708550980', 'create_date': '2024-02-21 18:29:40'}, 'USDT': {'code': 'USD', 'codein': 'BRLT', 'name': 'Dólar Americano/Real Brasileiro Turismo', 'high': '4.97', 'low': '4.935', 'varBid': '0.015', 'pctChange': '0.3', 'bid': '4.82', 'ask': '5.11', 'timestamp': '1708543140', 'create_date': '2024-02-21 16:19:00'}, 'CAD': {'code': 'CAD', 'codein': 'BRL', 'name': 'Dólar Canadense/Real Brasileiro', 'high': '3.6575', 'low': '3.6575', 'varBid': '0', 'pctChange': '0', 'bid': '3.6548', 'ask': '3.6603', 'timestamp': '1708555751', 'create_date': '2024-02-21 19:49:11'}, 'GBP': {'code': 'GBP', 'codein': 'BRL', 'name': 'Libra Esterlina/Real Brasileiro', 'high': '6.2396', 'low': '6.2375', 'varBid': '0', 'pctChange': '0', 'bid': '6.2305', 'ask': '6.2461', 'timestamp': '1708555756', 'create_date': '2024-02-21 19:49:16'}, 'ARS': {'code': 'ARS', 'codein': 'BRL', 'name': 'Peso Argentino/Real Brasileiro', 'high': '0.0059', 'low': '0.0059', 'varBid': '0', 'pctChange': '0', 'bid': '0.0059', 'ask': '0.0059', 'timestamp': '1708555782', 'create_date': '2024-02-21 19:49:42'}, 'BTC': {'code': 'BTC', 'codein': 'BRL', 'name': 'Bitcoin/Real Brasileiro', 'high': '260570', 'low': '251800', 'varBid': '-4400', 'pctChange': '-1.69', 'bid': '255313', 'ask': '255418', 'timestamp': '1708555840', 'create_date': '2024-02-21 19:50:40'}, 'LTC': {'code': 'LTC', 'codein': 'BRL', 'name': 'Litecoin/Real Brasileiro', 'high': '353', 'low': '320.61', 'varBid': '-5.89', 'pctChange': '-1.7', 'bid': '340', 'ask': '343.88', 'timestamp': '1708555850', 'create_date': '2024-02-21 19:50:50'}, 'EUR': {'code': 'EUR', 'codein': 'BRL', 'name': 'Euro/Real Brasileiro', 'high': '5.3416', 'low': '5.3416', 'varBid': '0', 'pctChange': '0', 'bid': '5.3376', 'ask': '5.3456', 'timestamp': '1708555759', 'create_date': '2024-02-21 19:49:19'}, 'JPY': {'code': 'JPY', 'codein': 'BRL', 'name': 'Iene Japonês/Real Brasileiro', 'high': '0.03285', 'low': '0.03284', 'varBid': '0', 'pctChange': '0', 'bid': '0.03284', 'ask': '0.03286', 'timestamp': '1708555784', 'create_date': '2024-02-21 19:49:44'}, 'CHF': {'code': 'CHF', 'codein': 'BRL', 'name': 'Franco Suíço/Real Brasileiro', 'high': '5.6133', 'low': '5.6133', 'varBid': '0', 'pctChange': '0', 'bid': '5.6091', 'ask': '5.6175', 'timestamp': '1708555756', 'create_date': '2024-02-21 19:49:16'}, 'AUD': {'code': 'AUD', 'codein': 'BRL', 'name': 'Dólar Australiano/Real Brasileiro', 'high': '3.2327', 'low': '3.2327', 'varBid': '0', 'pctChange': '0', 'bid': '3.2303', 'ask': '3.2351', 'timestamp': '1708555782', 'create_date': '2024-02-21 19:49:42'}, 'CNY': {'code': 'CNY', 'codein': 'BRL', 'name': 'Yuan Chinês/Real Brasileiro', 'high': '0.6878', 'low': '0.6841', 'varBid': '0.0016', 'pctChange': '0.24', 'bid': '0.6868', 'ask': '0.6869', 'timestamp': '1708554722', 'create_date': '2024-02-21 19:32:02'}, 'ILS': {'code': 'ILS', 'codein': 'BRL', 'name': 'Novo Shekel Israelense/Real Brasileiro', 'high': '1.3469', 'low': '1.3333', 'varBid': '0.0019', 'pctChange': '0.14', 'bid': '1.3434', 'ask': '1.3437', 'timestamp': '1708555804', 'create_date': '2024-02-21 19:50:04'}, 'ETH': {'code': 'ETH', 'codein': 'BRL', 'name': 'Ethereum/Real Brasileiro', 'high': '15070.71', 'low': '14253.81', 'varBid': '-381.75', 'pctChange': '-2.55', 'bid': '14545.94', 'ask': '14589.76', 'timestamp': '1708555828', 'create_date': '2024-02-21 19:50:28'}, 'XRP': {'code': 'XRP', 'codein': 'BRL', 'name': 'XRP/Real Brasileiro', 'high': '2.82', 'low': '2.66', 'varBid': '-0.08', 'pctChange': '-2.94', 'bid': '2.72', 'ask': '2.72', 'timestamp': '1708555816', 'create_date': '2024-02-21 19:50:16'}, 'DOGE': {'code': 'DOGE', 'codein': 'BRL', 'name': 'Dogecoin/Real Brasileiro', 'high': '0.42594', 'low': '0.40595', 'varBid': '-0.00851', 'pctChange': '-2.01', 'bid': '0.41544', 'ask': '0.41544', 'timestamp': '1708555715', 'create_date': '2024-02-21 19:48:35'}}\n"
     ]
    }
   ],
   "source": [
    "import requests \n",
    "import json \n",
    "\n",
    "cotacao = requests.get(\"https://economia.awesomeapi.com.br/json/all\")\n",
    "\n",
    "cotacao_dic = cotacao.json()\n",
    "print(cotacao_dic)"
   ]
  },
  {
   "cell_type": "markdown",
   "metadata": {},
   "source": [
    "# Qual o valor de moedas atuais?\n"
   ]
  },
  {
   "cell_type": "code",
   "execution_count": 9,
   "metadata": {},
   "outputs": [
    {
     "name": "stdout",
     "output_type": "stream",
     "text": [
      "Dolar: 4.9358 \n",
      "Euro (EUR BRL): 5.3376 \n",
      "Bitcoin (EUR BRL): 255313 \n"
     ]
    }
   ],
   "source": [
    "print(\"Dolar: {} \".format(cotacao_dic[\"USD\"][\"bid\"]))\n",
    "print(\"Euro (EUR BRL): {} \".format(cotacao_dic[\"EUR\"][\"bid\"]))\n",
    "print(\"Bitcoin (EUR BRL): {} \".format(cotacao_dic[\"BTC\"][\"bid\"]))\n"
   ]
  },
  {
   "cell_type": "markdown",
   "metadata": {},
   "source": [
    "# Cotação dos ultimos 30 dias do Bitcoin"
   ]
  },
  {
   "cell_type": "code",
   "execution_count": 18,
   "metadata": {},
   "outputs": [
    {
     "name": "stdout",
     "output_type": "stream",
     "text": [
      "[256094.0, 257713.0, 259801.0, 259907.0, 261380.0, 259200.0, 261269.0, 260168.0, 259300.0, 248212.0, 249079.0, 241024.0, 238148.0, 234824.0, 227196.0, 220851.0, 215086.0, 213480.0, 213200.0, 214611.0, 215755.0, 212824.0, 212330.0, 213451.0, 215066.0, 208172.0, 208596.0, 206796.0, 197450.0, 198825.0]\n"
     ]
    }
   ],
   "source": [
    "cotacao30d = requests.get(\"https://economia.awesomeapi.com.br/json/daily/BTC-BRL/30\")\n",
    "cotacao30d = cotacao30d.json()\n",
    "\n",
    "list_cotacao_bit = [float(item[\"bid\"]) for item in cotacao30d]\n",
    "\n",
    "print(list_cotacao_bit)"
   ]
  },
  {
   "cell_type": "markdown",
   "metadata": {},
   "source": [
    "# Cotação do bitcoin durante 20/OUT/2023 a 28/JAN/2024"
   ]
  },
  {
   "cell_type": "code",
   "execution_count": 34,
   "metadata": {},
   "outputs": [
    {
     "data": {
      "text/plain": [
       "[40098.6,\n",
       " 40099.9,\n",
       " 40099.9,\n",
       " 40000.0,\n",
       " 40000.0,\n",
       " 40001.0,\n",
       " 40001.1,\n",
       " 40001.0,\n",
       " 40001.0,\n",
       " 40001.0,\n",
       " 40002.0,\n",
       " 40002.0,\n",
       " 40000.0,\n",
       " 39951.0,\n",
       " 39920.0,\n",
       " 39950.0,\n",
       " 39990.0,\n",
       " 39990.0,\n",
       " 40000.0,\n",
       " 40000.0,\n",
       " 40000.0,\n",
       " 40000.0,\n",
       " 40001.0,\n",
       " 40040.0,\n",
       " 40059.7,\n",
       " 40059.7,\n",
       " 40059.7,\n",
       " 40005.0,\n",
       " 40005.8,\n",
       " 40005.0,\n",
       " 40005.0,\n",
       " 40005.0,\n",
       " 40001.0,\n",
       " 40000.0,\n",
       " 39991.0,\n",
       " 39990.0,\n",
       " 39990.0,\n",
       " 39900.0,\n",
       " 39888.9,\n",
       " 39899.0,\n",
       " 39899.0,\n",
       " 39899.0,\n",
       " 39899.0,\n",
       " 39899.0,\n",
       " 39899.0,\n",
       " 39899.0,\n",
       " 39899.0,\n",
       " 39850.0,\n",
       " 39800.0,\n",
       " 39804.6,\n",
       " 39800.0,\n",
       " 39800.0,\n",
       " 39800.0,\n",
       " 39800.0,\n",
       " 39800.0,\n",
       " 39800.0,\n",
       " 39760.0,\n",
       " 39760.0,\n",
       " 39750.0,\n",
       " 39752.0,\n",
       " 39740.0,\n",
       " 39718.1,\n",
       " 39701.0,\n",
       " 39610.0,\n",
       " 39600.0,\n",
       " 39600.0,\n",
       " 39601.0,\n",
       " 39605.0,\n",
       " 39605.0,\n",
       " 39600.0,\n",
       " 39600.0,\n",
       " 39550.0,\n",
       " 39550.0,\n",
       " 39500.0,\n",
       " 39490.0,\n",
       " 39400.0,\n",
       " 39409.9,\n",
       " 39400.1,\n",
       " 39400.1,\n",
       " 39401.0,\n",
       " 39401.0,\n",
       " 39401.1,\n",
       " 39500.1,\n",
       " 39570.1,\n",
       " 39575.0,\n",
       " 39589.0,\n",
       " 39601.0,\n",
       " 39601.1,\n",
       " 39602.0,\n",
       " 39601.0]"
      ]
     },
     "metadata": {},
     "output_type": "display_data"
    },
    {
     "name": "stdout",
     "output_type": "stream",
     "text": [
      "90\n"
     ]
    }
   ],
   "source": [
    "\n",
    "cotacao_bit_intervalo = requests.get(\"https://economia.awesomeapi.com.br/BTC-BRL/180?start_date=20200101&end_date=20200131\")\n",
    "\n",
    "cotacao_bit_intervalo = cotacao_bit_intervalo.json()\n",
    "\n",
    "cotacao_bit_intervalo = [float(item[\"bid\"]) for item in cotacao_bit_intervalo]\n",
    "cotacao_bit_intervalo.reverse()\n",
    "display(cotacao_bit_intervalo)\n",
    "print(len(cotacao_bit_intervalo))"
   ]
  },
  {
   "cell_type": "markdown",
   "metadata": {},
   "source": [
    "# Agora é deixar em grafico pra ficar bnt \n"
   ]
  },
  {
   "cell_type": "code",
   "execution_count": 32,
   "metadata": {},
   "outputs": [
    {
     "data": {
      "image/png": "[encoded data removed]",
      "text/plain": [
       "<Figure size 1500x500 with 1 Axes>"
      ]
     },
     "metadata": {},
     "output_type": "display_data"
    }
   ],
   "source": [
    "import matplotlib.pyplot as plt \n",
    "\n",
    "plt.figure(figsize=(15, 5))\n",
    "\n",
    "plt.plot(list_cotacao_bit)\n",
    "plt.show()"
   ]
  }
 ],
 "metadata": {
  "kernelspec": {
   "display_name": "Python 3",
   "language": "python",
   "name": "python3"
  },
  "language_info": {
   "codemirror_mode": {
    "name": "ipython",
    "version": 3
   },
   "file_extension": ".py",
   "mimetype": "text/x-python",
   "name": "python",
   "nbconvert_exporter": "python",
   "pygments_lexer": "ipython3",
   "version": "3.12.2"
  }
 },
 "nbformat": 4,
 "nbformat_minor": 2
}
