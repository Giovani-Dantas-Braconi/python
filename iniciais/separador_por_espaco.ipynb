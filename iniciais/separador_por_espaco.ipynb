{
 "cells": [
  {
   "cell_type": "code",
   "execution_count": 1,
   "metadata": {},
   "outputs": [
    {
     "name": "stdout",
     "output_type": "stream",
     "text": [
      "Nome: Giovani\n",
      "Sobrenome: Dantas\n"
     ]
    }
   ],
   "source": [
    "entrada = input(\"Digite seu nome e sobrenome: \")\n",
    "nome, sobrenome = entrada.split()\n",
    "\n",
    "print(\"Nome:\", nome)\n",
    "print(\"Sobrenome:\", sobrenome)\n"
   ]
  }
 ],
 "metadata": {
  "kernelspec": {
   "display_name": "Python 3",
   "language": "python",
   "name": "python3"
  },
  "language_info": {
   "codemirror_mode": {
    "name": "ipython",
    "version": 3
   },
   "file_extension": ".py",
   "mimetype": "text/x-python",
   "name": "python",
   "nbconvert_exporter": "python",
   "pygments_lexer": "ipython3",
   "version": "3.12.1"
  }
 },
 "nbformat": 4,
 "nbformat_minor": 2
}
