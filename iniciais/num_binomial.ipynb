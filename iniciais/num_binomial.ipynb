{
 "cells": [
  {
   "cell_type": "markdown",
   "metadata": {},
   "source": [
    "# IT'S A PROGRAM FOR USE A FOUND THE BINOMIAL NUMBER USING COUNTS \n"
   ]
  },
  {
   "cell_type": "code",
   "execution_count": null,
   "metadata": {},
   "outputs": [],
   "source": [
    "import os\n",
    "import time\n",
    "\n",
    "\n",
    "class BinomialProblem:\n",
    "    def __init__(self, num1, num2):\n",
    "        self.num1 = num1\n",
    "        self.num2 = num2\n",
    "\n",
    "    @staticmethod\n",
    "    def factorial(num):\n",
    "        result = 1\n",
    "        count = 1\n",
    "\n",
    "        while count <= num:\n",
    "            result *= count\n",
    "            count += 1\n",
    "\n",
    "        return result\n",
    "\n",
    "    def comparation(self):\n",
    "        a = self.num1\n",
    "        b = self.num2\n",
    "\n",
    "        if a < b:\n",
    "            self.num1 = b\n",
    "            self.num2 = a\n",
    "\n",
    "    def count(self):\n",
    "        itens = self.factorial(self.num1) / (self.factorial(self.num2) * self.factorial(self.num1 - self.num2))\n",
    "        return itens\n",
    "\n",
    "while True:\n",
    "    \n",
    "    resposte_user = input(\"Enter two numbers separated by a comma to define the binomial number (or leave it empty to exit):\\n \")\n",
    "\n",
    "    if not resposte_user:\n",
    "        break  \n",
    "    try:\n",
    "        numbers = resposte_user.split(\",\")\n",
    "        num1 = int(numbers[0])\n",
    "        num2 = int(numbers[1])\n",
    "        situation = BinomialProblem(num1, num2)\n",
    "        situation.comparation()\n",
    "        print(f\"Count: {situation.count()}\")\n",
    "        \n",
    "        time.sleep(2)\n",
    "        \n",
    "        os.system('cls' if os.name == 'nt' else 'clear')\n",
    "        \n",
    "    except ValueError:\n",
    "        print(\"Please enter valid integers.\")\n",
    "\n",
    "\n",
    "\n"
   ]
  },
  {
   "cell_type": "markdown",
   "metadata": {},
   "source": [
    "# It's a other program for use the found a soum for line in pascal triangle  "
   ]
  },
  {
   "cell_type": "code",
   "execution_count": null,
   "metadata": {},
   "outputs": [],
   "source": [
    "#it's a program to create a traingle pascal \n",
    "\n",
    "def generate_pascal_triangle(n):\n",
    "    result = []\n",
    "    for i in range(n):\n",
    "        row = [1]\n",
    "        if result:\n",
    "            last_row = result[-1]\n",
    "            row.extend([sum(pair) for pair in zip(last_row, last_row[1:])])\n",
    "            row.append(1)\n",
    "        result.append(row)\n",
    "    return result\n",
    "\n",
    "\n",
    "\n",
    "input_user = int(input(\"What the number do you wanti know?\\n\"))\n",
    "input_user += 1\n",
    "pascal_triangle = generate_pascal_triangle(input_user)\n",
    "\n",
    "for row in pascal_triangle:\n",
    "    print(','.join(str(num) for num in row))\n",
    "\n",
    "\n"
   ]
  }
 ],
 "metadata": {
  "language_info": {
   "name": "python"
  }
 },
 "nbformat": 4,
 "nbformat_minor": 2
}
