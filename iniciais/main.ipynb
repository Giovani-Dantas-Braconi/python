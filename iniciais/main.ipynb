{
 "cells": [
  {
   "cell_type": "code",
   "execution_count": 6,
   "metadata": {},
   "outputs": [
    {
     "name": "stdout",
     "output_type": "stream",
     "text": [
      "Ninguém ganhou bonus\n"
     ]
    }
   ],
   "source": [
    "meta_funcionario = 20000\n",
    "meta_loja = 150000\n",
    "vendas_funcionario = int(input(\"Qual foi a sua  meta? \"))\n",
    "vendas_loja = int(input(\"Qual foi a meta da loja? \"))\n",
    "\n",
    "\n",
    "if vendas_funcionario > meta_funcionario and vendas_loja > meta_loja: \n",
    "    bonus = 0.03 * vendas_funcionario \n",
    "    bonus_loja = 0.07 * vendas_loja \n",
    "\n",
    "    print(f\"Os bônus desse mês foram respectivamente {bonus} do funcionário e {bonus_loja} de bônus da loja!!! \") \n",
    "\n",
    "elif vendas_loja > meta_loja and vendas_funcionario < meta_funcionario:\n",
    "    bonus_loja = 0.07 * vendas_loja \n",
    "    bonus = 0 \n",
    "    print(f\"O bônus da loja desse mês foi de {bonus_loja} da loja e o bonus do funcionário foi de {bonus}\")\n",
    "\n",
    "elif meta_funcionario < vendas_funcionario and vendas_loja < meta_loja:\n",
    "    bonus = 0.03 * vendas_funcionario \n",
    "    bonus_loja = 0 \n",
    "\n",
    "    print(f\"O bonus do funcionário foi de {bonus} já a loja foi de {bonus_loja}\")\n",
    "\n",
    "else:\n",
    "    print(\"Ninguém ganhou bonus\")"
   ]
  },
  {
   "cell_type": "markdown",
   "metadata": {},
   "source": [
    "\n",
    "\n",
    "if nota_funcionario >= meta_nota or (vendas_funcionario> meta_funcionario):\n",
    "    bonus_att_funcionario = 0.03 * bonus\n",
    "    print(f\"Bonus do funcionario atualizado foi de {bonus_att_funcionario}\")\n",
    "\n",
    "else:\n",
    "    print(\"ganhou nd msm\")\n",
    "\n",
    "\n",
    "\n"
   ]
  }
 ],
 "metadata": {
  "kernelspec": {
   "display_name": "Python 3",
   "language": "python",
   "name": "python3"
  },
  "language_info": {
   "codemirror_mode": {
    "name": "ipython",
    "version": 3
   },
   "file_extension": ".py",
   "mimetype": "text/x-python",
   "name": "python",
   "nbconvert_exporter": "python",
   "pygments_lexer": "ipython3",
   "version": "3.12.0"
  }
 },
 "nbformat": 4,
 "nbformat_minor": 2
}
