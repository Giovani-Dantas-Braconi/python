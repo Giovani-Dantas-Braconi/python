{
 "cells": [
  {
   "cell_type": "markdown",
   "metadata": {},
   "source": [
    "codigo para verificação do estoque "
   ]
  },
  {
   "cell_type": "code",
   "execution_count": null,
   "metadata": {},
   "outputs": [],
   "source": [
    "produtos = [\"tv\", \"celular\", \"tablet\", \"mouse\", \"teclado\", \"geladeira\", \"forno\"]\n",
    "estoque = [100, 150, 100, 120, 70, 180, 80]\n",
    "\n",
    "produto = input(\"Insira o nome do produto\")\n",
    "i = produtos.index(produto)\n",
    "\n",
    "print(i)\n",
    "\n",
    "if produto in produtos: \n",
    "    i = produtos.index(produto)\n",
    "    qtde_estoque = estoque[i]\n",
    "    print(f\"Temos no estoque {qtde_estoque} do produto {produto}\")\n",
    "else: \n",
    "    print(\"Reescreva\")"
   ]
  },
  {
   "cell_type": "markdown",
   "metadata": {},
   "source": [
    "Codigo para adicionar em tabelas e Remover de tabelas"
   ]
  },
  {
   "cell_type": "code",
   "execution_count": null,
   "metadata": {},
   "outputs": [],
   "source": [
    "produtos_apple_exemplo = [\"Tv_apple\", \"mac\", \"iphone_x\", \"ipad\", \"air_podes\"] \n",
    "\n",
    "produtos_apple_exemplo.append(\"iphone_11\") \n",
    "\n",
    "print(produtos_apple_exemplo)\n",
    "\n",
    "#Remover uma coisa da tabela\n",
    "\n",
    "produto_remover = \"iphone_x\"\n",
    "\n",
    "if produto_remover in produtos_apple_exemplo:\n",
    "    produtos_apple_exemplo.remove(\"iphone_x\")\n",
    "    print(produtos_apple_exemplo)\n",
    "else:\n",
    "    print(\"deu erro\")"
   ]
  },
  {
   "cell_type": "markdown",
   "metadata": {},
   "source": [
    "Codigo para a verificação de quantidade e item com maior numero correspondente por exeplo em estoques vendidos"
   ]
  },
  {
   "cell_type": "code",
   "execution_count": null,
   "metadata": {},
   "outputs": [],
   "source": [
    "produtos_att_sem_apple = [\"tv\", \"computador\", \"tablet\", \"mouse\", \"teclado\", \"geladeira\", \"forno\"] \n",
    "vendas = [300, 300, 100, 500, 150, 800, 9 ] \n",
    "tamanho = len(produtos_att_sem_apple)\n",
    "print(f\"temos {produtos_att_sem_apple}\")\n",
    "\n",
    "mais_vendido = max(vendas)\n",
    "menos_vendido = min(vendas)\n",
    "\n",
    "print(f\"O produto mais vendido é {mais_vendido} e a menos vendido foi {menos_vendido}\")\n",
    "\n",
    "i = vendas.index(mais_vendido)\n",
    "produto_mais_vendido = produtos_att_sem_apple[i]\n",
    "\n",
    "#MENOS VENDIDO\n",
    "\n",
    "i = vendas.index(menos_vendido)\n",
    "produto_menos_vendido = produtos_att_sem_apple[i]\n",
    "\n",
    "\n",
    "\n",
    "\n",
    "print(f\"CONCLUSÃO O produto mais vendido é {produto_mais_vendido} com {mais_vendido} e o menos vendido é {produto_menos_vendido} com numero de vendas de {menos_vendido}\")\n",
    "\n"
   ]
  },
  {
   "cell_type": "markdown",
   "metadata": {},
   "source": [
    "Codigo para att no banco\n",
    "\n",
    "codigo para ordenar, mas só server pra atrapalhar"
   ]
  },
  {
   "cell_type": "code",
   "execution_count": null,
   "metadata": {},
   "outputs": [],
   "source": [
    "produtos_aula_614  = [\"tv\", \"computador\", \"tablet\", \"mouse\", \"teclado\", \"geladeira\", \"forno\"]\n",
    "novos_produtos = [\"iphone_12\", \"oculos\"]\n",
    "\n",
    "att_produtos = novos_produtos + produtos_aula_614\n",
    "\n",
    "print(att_produtos)\n",
    "\n",
    "att_produtos.sort()\n",
    "print(att_produtos)"
   ]
  },
  {
   "cell_type": "markdown",
   "metadata": {},
   "source": [
    "Codigo para a melhorar a separação de listas  MAIS BNT porem menos usual"
   ]
  },
  {
   "cell_type": "code",
   "execution_count": null,
   "metadata": {},
   "outputs": [],
   "source": [
    "produtos_aula_814  = [\"tv\", \"computador\", \"tablet\", \"mouse\", \"teclado\", \"geladeira\", \"forno\"]\n",
    "# \\ /\n",
    "print(\"\\n\".join(produtos_aula_814))"
   ]
  },
  {
   "cell_type": "markdown",
   "metadata": {},
   "source": [
    "USANDO TUPLA"
   ]
  },
  {
   "cell_type": "code",
   "execution_count": null,
   "metadata": {},
   "outputs": [],
   "source": [
    "estoque_iphone = [\n",
    "    (\"28/08/2023\", \"iphone 14\", \"rosa\", \"256gb\", 600, 5000),\n",
    "    (\"28/08/2023\", \"iphone 13\", \"preto\", \"128gb\", 900, 3400),\n",
    "    (\"28/08/2023\", \"iphone xr\", \"azul\", \"64gb\", 50, 2000),\n",
    "    (\"29/08/2023\", \"iphone 15\", \"branco\", \"1TB\", 100, 10000),\n",
    "    (\"29/08/2023\", \"iphone 11\", \"rosa\", \"128gb\", 400, 7000),\n",
    "    (\"29/08/2023\", \"iphone 7 plus\", \"dourado\", \"64gb\", 100, 800),\n",
    "]\n",
    "\n",
    "faturamento_final = 0\n",
    "\n",
    "for itens in estoque_iphone:\n",
    "    data, cell, cor, capacidade, vendidos, valor_unit = itens\n",
    "\n",
    "    if data == \"28/08/2023\":\n",
    "        faturamento_final += vendidos * valor_unit\n",
    "\n",
    "print(faturamento_final)"
   ]
  },
  {
   "cell_type": "markdown",
   "metadata": {},
   "source": [
    "FOR EM TUPLAS"
   ]
  },
  {
   "cell_type": "code",
   "execution_count": null,
   "metadata": {},
   "outputs": [],
   "source": [
    "vendas_tecnologia = {\"i_tv\": 300, \"notebook asus\" : 1000, \"notebook hp\": 200, \"notebook samsung\": 100, \"notbook dell\": 456, \"notebook max\": 200}\n",
    "\n",
    "total_notebook = 0 \n",
    "\n",
    "for chave in vendas_tecnologia:\n",
    "    if \"notebook\" in chave:\n",
    "        total_notebook += vendas_tecnologia[chave]\n",
    "\n",
    "print(total_notebook)"
   ]
  },
  {
   "cell_type": "code",
   "execution_count": null,
   "metadata": {},
   "outputs": [],
   "source": []
  }
 ],
 "metadata": {
  "kernelspec": {
   "display_name": "Python 3",
   "language": "python",
   "name": "python3"
  },
  "language_info": {
   "codemirror_mode": {
    "name": "ipython",
    "version": 3
   },
   "file_extension": ".py",
   "mimetype": "text/x-python",
   "name": "python",
   "nbconvert_exporter": "python",
   "pygments_lexer": "ipython3",
   "version": "3.12.0"
  }
 },
 "nbformat": 4,
 "nbformat_minor": 2
}
