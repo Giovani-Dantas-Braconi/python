{
 "cells": [
  {
   "cell_type": "code",
   "execution_count": null,
   "metadata": {},
   "outputs": [],
   "source": [
    "import time as tm \n",
    "\n",
    "tempo_atual_segundos = tm.time_ns()\n",
    "\n",
    "print(f\"O tempo atual: {tempo_atual_segundos} segundos desde a Epoch\")"
   ]
  },
  {
   "cell_type": "markdown",
   "metadata": {},
   "source": [
    "Pausar "
   ]
  },
  {
   "cell_type": "code",
   "execution_count": null,
   "metadata": {},
   "outputs": [],
   "source": [
    "print(\"Iniciando o programa\")\n",
    "tm.sleep(5)\n",
    "print(\"Fim do programa\")\n"
   ]
  },
  {
   "cell_type": "markdown",
   "metadata": {},
   "source": [
    "CTIME"
   ]
  },
  {
   "cell_type": "code",
   "execution_count": null,
   "metadata": {},
   "outputs": [],
   "source": [
    "tempo_em_segundos = tm.time()\n",
    "tempo_local = tm.ctime(tempo_em_segundos)\n",
    "\n",
    "print(f\"O tempo local é  {tempo_local}\")"
   ]
  },
  {
   "cell_type": "code",
   "execution_count": null,
   "metadata": {},
   "outputs": [],
   "source": [
    "tempo_em_segundos = tm.time()\n",
    "\n",
    "tempo_local = tm.localtime(tempo_em_segundos)\n",
    "\n",
    "print(f\"Tempo local é: {tempo_local}\")"
   ]
  },
  {
   "cell_type": "markdown",
   "metadata": {},
   "source": [
    "# POR EXEMPLO PEGANDO INFO BR"
   ]
  },
  {
   "cell_type": "code",
   "execution_count": null,
   "metadata": {},
   "outputs": [],
   "source": [
    "import locale\n",
    "import time\n",
    "\n",
    "# Definir a localização para português.\n",
    "locale.setlocale(locale.LC_TIME, 'pt_BR.UTF-8')\n",
    "\n",
    "tempo_em_struct = time.localtime()\n",
    "tempo_formatado = time.strftime(\"%A, %d de %B de %Y, %H:%M:%S\", tempo_em_struct)\n",
    "print(f\"Tempo formatado: {tempo_formatado}\")"
   ]
  },
  {
   "cell_type": "markdown",
   "metadata": {},
   "source": [
    "# Exercícios de time "
   ]
  },
  {
   "cell_type": "code",
   "execution_count": null,
   "metadata": {},
   "outputs": [],
   "source": [
    "import time\n",
    "\n",
    "contagem = 10\n",
    "print(\"O programa irá começar em: 10\")\n",
    "for i in range(10):\n",
    "    contagem = contagem - 1 \n",
    "    time.sleep(2)\n",
    "    print(contagem)\n",
    "\n",
    "print(\"O programa começou!!!!!\")"
   ]
  },
  {
   "cell_type": "markdown",
   "metadata": {},
   "source": [
    "# Tentativa de adicionar na lateral \n",
    "\n",
    "O meu ficou mto mais legal(1°)"
   ]
  },
  {
   "cell_type": "code",
   "execution_count": null,
   "metadata": {},
   "outputs": [],
   "source": [
    "import time \n",
    "supla_da_contagem = []\n",
    "print(\"O evento irá começar em:\")\n",
    "\n",
    "for i in reversed(range(11)):\n",
    "    supla_da_contagem.append(i)\n",
    "    time.sleep(2)\n",
    "    print(f\" {supla_da_contagem} \", end=' \\r')\n",
    "\n",
    "\n",
    "print(\"O EVENTO COMEÇOU!!!!!!!!!!!!!!!!!!!!!!!!!!\")\n"
   ]
  },
  {
   "cell_type": "code",
   "execution_count": null,
   "metadata": {},
   "outputs": [],
   "source": [
    "import time\n",
    "\n",
    "for numero in range(10, 0, -1):\n",
    "    print(numero, end=' /r')\n",
    "    time.sleep(1)\n",
    "\n",
    "print(\"O evento começou\")"
   ]
  },
  {
   "cell_type": "markdown",
   "metadata": {},
   "source": [
    "# DATATIME"
   ]
  },
  {
   "cell_type": "code",
   "execution_count": null,
   "metadata": {},
   "outputs": [],
   "source": [
    "from datetime import datetime\n",
    "from datetime import date\n",
    "\n",
    "\n",
    "agora = datetime.now()\n",
    "print(agora)\n",
    "\n",
    "hoje = date.today()\n",
    "print(hoje)\n"
   ]
  },
  {
   "cell_type": "code",
   "execution_count": null,
   "metadata": {},
   "outputs": [],
   "source": [
    "from datetime import datetime, timedelta\n",
    "\n",
    "data_atual = datetime.now()\n",
    "print(f\"Data atual: {data_atual}\")\n",
    "\n",
    "data_futura = data_atual + timedelta(days=10)\n",
    "print(f\"Data 10 dias no futuro: {data_futura}\")\n",
    "\n",
    "data_passada = data_atual - timedelta(days=10)\n",
    "print(f\"Data 10 dias no passado: {data_passada}\")\n",
    "\n",
    "\n"
   ]
  },
  {
   "cell_type": "markdown",
   "metadata": {},
   "source": [
    "# Testagem dos scriptys"
   ]
  },
  {
   "cell_type": "code",
   "execution_count": null,
   "metadata": {},
   "outputs": [],
   "source": [
    "data_hora_iso = datetime.fromisoformat(\"2023-06-26 15:30:20\")\n",
    "print(f\"Data/hora: {data_hora_iso}\")"
   ]
  },
  {
   "cell_type": "markdown",
   "metadata": {},
   "source": [
    "# Calculo de diferença de datas"
   ]
  },
  {
   "cell_type": "code",
   "execution_count": 13,
   "metadata": {},
   "outputs": [
    {
     "name": "stdout",
     "output_type": "stream",
     "text": [
      "30\n"
     ]
    }
   ],
   "source": [
    "from datetime import datetime\n",
    "\n",
    "data1 = datetime(2023, 6, 25)\n",
    "data2 = datetime(2023, 7, 25)\n",
    "\n",
    "diferença = data2 - data1\n",
    "print(diferença.days) #o .days serve para só dias, se nn aparece o horário junto"
   ]
  },
  {
   "cell_type": "code",
   "execution_count": 14,
   "metadata": {},
   "outputs": [
    {
     "name": "stdout",
     "output_type": "stream",
     "text": [
      "[datetime.datetime(2023, 2, 28, 0, 0), datetime.datetime(2023, 6, 10, 0, 0), datetime.datetime(2023, 6, 28, 0, 0), datetime.datetime(2023, 6, 29, 0, 0), datetime.datetime(2023, 8, 30, 0, 0), datetime.datetime(2023, 12, 12, 0, 0)]\n",
      "A data da ordem 0 é 2023-02-28\n",
      "A data da ordem 1 é 2023-06-10\n",
      "A data da ordem 2 é 2023-06-28\n",
      "A data da ordem 3 é 2023-06-29\n",
      "A data da ordem 4 é 2023-08-30\n",
      "A data da ordem 5 é 2023-12-12\n"
     ]
    }
   ],
   "source": [
    "from datetime import datetime \n",
    "\n",
    "\n",
    "datas = [\n",
    "    datetime(2023, 6, 28),\n",
    "    datetime(2023, 2, 28),\n",
    "    datetime(2023, 6, 10),\n",
    "    datetime(2023, 6, 29),\n",
    "    datetime(2023, 8, 30),\n",
    "    datetime(2023, 12, 12),\n",
    "\n",
    "\n",
    "]\n",
    "\n",
    "datas_ordenadas = sorted(datas)\n",
    "\n",
    "print(datas_ordenadas)\n",
    "\n",
    "for i, data in enumerate(datas_ordenadas):\n",
    "    print(f\"A data da ordem {i} é {data.date()}\")"
   ]
  }
 ],
 "metadata": {
  "kernelspec": {
   "display_name": "Python 3",
   "language": "python",
   "name": "python3"
  },
  "language_info": {
   "codemirror_mode": {
    "name": "ipython",
    "version": 3
   },
   "file_extension": ".py",
   "mimetype": "text/x-python",
   "name": "python",
   "nbconvert_exporter": "python",
   "pygments_lexer": "ipython3",
   "version": "3.12.0"
  }
 },
 "nbformat": 4,
 "nbformat_minor": 2
}
