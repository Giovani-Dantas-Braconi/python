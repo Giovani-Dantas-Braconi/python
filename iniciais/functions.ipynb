{
 "cells": [
  {
   "cell_type": "markdown",
   "metadata": {},
   "source": [
    "CRIANDO UMA FUNCTION"
   ]
  },
  {
   "cell_type": "code",
   "execution_count": null,
   "metadata": {},
   "outputs": [],
   "source": []
  },
  {
   "cell_type": "code",
   "execution_count": null,
   "metadata": {},
   "outputs": [],
   "source": [
    "def cadastrar_produto():\n",
    "    produto = input(\"digite o nome do produto que deseja cadastrar\")\n",
    "    produto = produto.lower()\n",
    "    produto = produto.strip()\n",
    "    print(f\"O produto {produto} foi cadastrardo\")\n",
    "    return produto \n",
    "\n",
    "\n",
    "produto = cadastrar_produto()\n",
    "\n",
    "print(produto)\n"
   ]
  },
  {
   "cell_type": "code",
   "execution_count": null,
   "metadata": {},
   "outputs": [],
   "source": [
    "def alcolico(bebida):\n",
    "    bebida = bebida.upper()\n",
    "    if \"BEB\" in bebida:\n",
    "        return True\n",
    "    else:\n",
    "        False\n",
    "\n",
    "produtos = [\"beb45678\", \"Beb32145\", \"BEB96857\", \"TFA38957\", \"beb49387\", \"BBB45674\", \"BAB12345\", \"Beb73546\", \"BFB9586\", \"FDS29293\"]\n",
    "\n",
    "for produtos_bebida in produtos:\n",
    "    if alcolico(produtos_bebida):\n",
    "        produtos_bebida = produtos_bebida.upper()\n",
    "        print(f\"Enviar {produtos_bebida} para o setor alcolico\")"
   ]
  },
  {
   "cell_type": "code",
   "execution_count": null,
   "metadata": {},
   "outputs": [],
   "source": [
    "def eh_da_categoria(bebida, cod_categoria):\n",
    "    bebida = bebida.upper()\n",
    "    if cod_categoria in bebida:\n",
    "        return True\n",
    "    else:\n",
    "        return False\n",
    "\n",
    "\n",
    "produtos = ['CAR46275','TFA23962','TFA64715','TFA69555','TFA56743','BSA45510','TFA44968','CAR75448','CAR23596','CAR13490','BEB21365','BEB31623','BSA62419','BEB73344','TFA20079','BEB80694','BSA11769','BEB19495','TFA14792','TFA78043','BSA33484','BEB97471','BEB62362','TFA27311','TFA17715','BEB85146','BEB48898','BEB79496','CAR38417','TFA19947','TFA58799','CAR94811','BSA59251','BEB15385','BEB24213','BEB56262','BSA96915','CAR53454','BEB75073']\n",
    "\n",
    "for produto in produtos:\n",
    "    if eh_da_categoria(produto, cod_categoria = 'BEB'):\n",
    "        print('Enviar {} para setor de bebidas alcóolicas'.format(produto))\n",
    "    elif eh_da_categoria(produto, 'BSA'):\n",
    "        print('Enviar {} para setor de bebidas não alcóolicas'.format(produto))\n",
    "        \n"
   ]
  },
  {
   "cell_type": "code",
   "execution_count": null,
   "metadata": {},
   "outputs": [],
   "source": [
    "preco = 1500\n",
    "custo = 400\n",
    "lucro = 785\n",
    "\n",
    "def carga_tributaria(preco, custo, lucro):\n",
    "    imposto = preco - custo - lucro \n",
    "    carga = imposto / preco \n",
    "    return carga\n",
    "\n",
    "print(\"A carga tributária foi de: {:.2%}\".format(carga_tributaria(preco, custo, lucro)))"
   ]
  },
  {
   "cell_type": "markdown",
   "metadata": {},
   "source": [
    "AGR PARA PADRONIZAR TUDO "
   ]
  },
  {
   "cell_type": "code",
   "execution_count": null,
   "metadata": {},
   "outputs": [],
   "source": [
    "def padronizar_codigos(lista_codigos, padrao= \"m\"):\n",
    "    for i, item in enumerate(lista_codigos):\n",
    "        item = item.replace(\"  \", \" \")\n",
    "        item = item.strip()\n",
    "        if padrao == \"m\":\n",
    "            item = item.casefold()\n",
    "        elif padrao == \"M\":\n",
    "            item = item.upper()\n",
    "        lista_codigos[i] = item\n",
    "    return lista_codigos\n",
    "\n",
    "cod_produtos = [\"Abc123\", \"ABC789\", \"  AbC567  \"]\n",
    "print(padronizar_codigos(cod_produtos, 'M'))"
   ]
  },
  {
   "cell_type": "markdown",
   "metadata": {},
   "source": [
    "CODIGO PARA PUXAR O PROVEDOR DO EMAIL E SEPARAR POR PROVEDOR "
   ]
  },
  {
   "cell_type": "code",
   "execution_count": null,
   "metadata": {},
   "outputs": [],
   "source": [
    "\n",
    "def filtrar_lista_texto(lista, pedaco_texto):\n",
    "    lista_filtrada = []\n",
    "    for item in lista:\n",
    "        if pedaco_texto in item:\n",
    "            lista_filtrada.append(item)\n",
    "    return lista_filtrada \n",
    "# caso queira  pode colocar o return dentro do for para ele executar somente no 1° item da lista \n",
    "\n",
    "lista_textos = [\"Giovani@gmail.com\", \"zezinhodograu@gmail.com\", \"pameladaxj6@htmail.com\", \"Anaclaradobobox@gmail.com\", \"lira@hastag.brabo\"]\n",
    "lista = filtrar_lista_texto(lista_textos, \"gmail\")\n",
    "print(lista)"
   ]
  },
  {
   "cell_type": "markdown",
   "metadata": {},
   "source": [
    "BOTANDO PRA FUDER D VDD, VMS VE NOQ DÁ "
   ]
  },
  {
   "cell_type": "code",
   "execution_count": 16,
   "metadata": {},
   "outputs": [],
   "source": []
  },
  {
   "cell_type": "code",
   "execution_count": null,
   "metadata": {},
   "outputs": [],
   "source": [
    "\n"
   ]
  }
 ],
 "metadata": {
  "kernelspec": {
   "display_name": "Python 3",
   "language": "python",
   "name": "python3"
  },
  "language_info": {
   "codemirror_mode": {
    "name": "ipython",
    "version": 3
   },
   "file_extension": ".py",
   "mimetype": "text/x-python",
   "name": "python",
   "nbconvert_exporter": "python",
   "pygments_lexer": "ipython3",
   "version": "3.12.0"
  }
 },
 "nbformat": 4,
 "nbformat_minor": 2
}
