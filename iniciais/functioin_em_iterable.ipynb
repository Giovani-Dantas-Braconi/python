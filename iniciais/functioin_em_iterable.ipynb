{
 "cells": [
  {
   "cell_type": "code",
   "execution_count": null,
   "metadata": {},
   "outputs": [],
   "source": [
    "\n",
    "    \n",
    "vendas_produto = ((\"iphone\", 558147, 951642), (\"galaxy\", 100_000, 200_00), (\"xaimoe\", 34567, 12345), (\"zamzung laso\", 456789, 238976,), (\"Ana Clara\", 45667, 333333))\n",
    "\n",
    "lista_vendas_2019 = []\n",
    "\n",
    "for produto, vendas2019, vendas2020 in vendas_produto:\n",
    "\n",
    "    lista_vendas_2019.append(vendas2019)\n",
    "    print(f\"O produto {produto} vendeu {vendas2019} em 2019\")\n",
    "print(lista_vendas_2019)\n",
    "\n",
    "print(max(lista_vendas_2019))\n",
    "\n"
   ]
  },
  {
   "cell_type": "code",
   "execution_count": null,
   "metadata": {},
   "outputs": [],
   "source": [
    "meta = 1000\n",
    "prdt_mais_meta = []\n",
    "vendas_produto = [1500, 150, 2100, 1950]\n",
    "produtos = [\"vinho\", \"cafeteira\", \"microoondas\", \"iphone\"]\n",
    "\n",
    "for i, produto in enumerate(produtos):\n",
    "    if vendas_produto[i] > meta:\n",
    "        prdt_mais_meta.append(produto)\n",
    "\n",
    "print(prdt_mais_meta)"
   ]
  },
  {
   "cell_type": "code",
   "execution_count": null,
   "metadata": {},
   "outputs": [],
   "source": []
  }
 ],
 "metadata": {
  "kernelspec": {
   "display_name": "Python 3",
   "language": "python",
   "name": "python3"
  },
  "language_info": {
   "codemirror_mode": {
    "name": "ipython",
    "version": 3
   },
   "file_extension": ".py",
   "mimetype": "text/x-python",
   "name": "python",
   "nbconvert_exporter": "python",
   "pygments_lexer": "ipython3",
   "version": "3.12.0"
  }
 },
 "nbformat": 4,
 "nbformat_minor": 2
}
