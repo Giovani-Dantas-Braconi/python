{
 "cells": [
  {
   "cell_type": "markdown",
   "metadata": {},
   "source": [
    "Codigo para regustar sem uma condição exata"
   ]
  },
  {
   "cell_type": "code",
   "execution_count": null,
   "metadata": {},
   "outputs": [],
   "source": [
    "adicionar_nota = input(\"Registe um produto, quando acabar só prescionae entrer\")\n",
    "vendas = []\n",
    "\n",
    "while adicionar_nota != '':\n",
    "    adicionar_nota = input(\"Registe um produto, quando acabar só prescionar entrer\")\n",
    "    vendas.append(adicionar_nota) \n",
    "\n",
    "\n",
    "\n",
    "print(f\"Registro Finalizado {vendas}\")"
   ]
  },
  {
   "cell_type": "markdown",
   "metadata": {},
   "source": [
    "EXERCICIO DE WHILE "
   ]
  },
  {
   "cell_type": "code",
   "execution_count": null,
   "metadata": {},
   "outputs": [],
   "source": [
    "nota_fiscal = []\n",
    "\n",
    "i = 0\n",
    "while True:\n",
    "    produto_add = input(\"Qual produto vai ser add? \")\n",
    "    if not produto_add:\n",
    "        i =+ 1\n",
    "        break\n",
    "    qtde_produto_nota = int(input(f\"Qual a quantidade de {produto_add[i]}\"))\n",
    "    nota_fiscal.append([produto_add, qtde_produto_nota])\n",
    "\n",
    "\n",
    "print(nota_fiscal)"
   ]
  }
 ],
 "metadata": {
  "kernelspec": {
   "display_name": "Python 3",
   "language": "python",
   "name": "python3"
  },
  "language_info": {
   "codemirror_mode": {
    "name": "ipython",
    "version": 3
   },
   "file_extension": ".py",
   "mimetype": "text/x-python",
   "name": "python",
   "nbconvert_exporter": "python",
   "pygments_lexer": "ipython3",
   "version": "3.12.0"
  }
 },
 "nbformat": 4,
 "nbformat_minor": 2
}
