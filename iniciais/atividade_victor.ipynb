{
 "cells": [
  {
   "cell_type": "code",
   "execution_count": 1,
   "metadata": {},
   "outputs": [
    {
     "name": "stdout",
     "output_type": "stream",
     "text": [
      "\n",
      "\n",
      "Nome do Mármore: marmore_ge, \n",
      " Valor do Metro²: R$32.75\n",
      "\n",
      "\n",
      "Nome do Mármore: marmore_giu, \n",
      " Valor do Metro²: R$32.48\n",
      "Você escolheu o mármore marmore_ge com valor de R$32.75 por metro².\n",
      "O valor da sua compra deu R$753.25 sendo 23.0 a quantidade de metros q vc comprou, vezes o valor do metro R$32.75 \n"
     ]
    }
   ],
   "source": [
    "class Admin:\n",
    "    \n",
    "    def __init__(self, qntd_opcoes):\n",
    "        self.opcoes = {}\n",
    "        self.qntd_opcoes = qntd_opcoes\n",
    "    \n",
    "    def add_banco(self):\n",
    "        for contagem in range(self.qntd_opcoes):\n",
    "                \n",
    "                nome_marmore = str(input(\"Qual é o nome do mármore? \")).lower()\n",
    "                valor_marmore = float(input(\"Qual o valor do metro²? \"))\n",
    "                add_opcoes = {nome_marmore: valor_marmore}\n",
    "                self.opcoes.update(add_opcoes)\n",
    "                \n",
    "    \n",
    "    \n",
    "    def read(self):\n",
    "        for indice, (nome, valor) in enumerate(self.opcoes.items()):\n",
    "            print(f\"\\n\\nNome do Mármore: {nome}, \\n Valor do Metro²: R${valor:.2f}\") \n",
    "        \n",
    "\n",
    "class User(Admin):\n",
    "    def escolha(self):\n",
    "        self.read() \n",
    "        escolha = str(input(\"Qual é a sua escolha? \")).lower()    \n",
    "        \n",
    "        while escolha not in self.opcoes:\n",
    "            print(\"Escolha um mármore que exista!\")\n",
    "            escolha = str(input(\"Qual é a sua escolha? \")).lower()\n",
    "            \n",
    "        print(f\"Você escolheu o mármore {escolha} com valor de R${self.opcoes[escolha]:.2f} por metro².\")\n",
    "        m2_comprado = float(input(\"quantos metros de marmore vc gostaria de comprar? \"))\n",
    "        valor_compra = m2_comprado * self.opcoes[escolha]\n",
    "        print(f\"O valor da sua compra deu R${valor_compra} sendo {m2_comprado} a quantidade de metros q vc comprou, vezes o valor do metro R${self.opcoes[escolha]} \")\n",
    "                \n",
    "                \n",
    "                \n",
    "        \n",
    "        \n",
    "        \n",
    "        \n",
    "qntd_opcoes = int(input(\"quantos tipos de marmore tem na sua loja? \"))\n",
    "    \n",
    "visualizar = User(qntd_opcoes)\n",
    "visualizar.add_banco()\n",
    "visualizar.escolha()\n",
    "\n",
    "\n",
    "\n"
   ]
  },
  {
   "cell_type": "markdown",
   "metadata": {},
   "source": [
    "# AGR O CODIGOZINHO BÁSICO DE CONDIÇÕES  "
   ]
  },
  {
   "cell_type": "code",
   "execution_count": null,
   "metadata": {},
   "outputs": [],
   "source": [
    "opcoes_marmore = {\"marmore_fogo\": 100, \"marmore_agua\": 200, \"marmore_folha\": 130, \"marmore_travesseiro\": 160, \"marmore_celular\": 500, \"marmore_pc\": 190}\n",
    "\n",
    "for i, (nome, valor) in enumerate(opcoes_marmore.items()):\n",
    "    print(f\"{i}: {nome} - R${valor}\")\n",
    "\n",
    "escolha = int(input(\"Qual o numero do tipo de mármore você gostaria de comprar? \"))\n",
    "\n",
    "if escolha < 0 or escolha >= len(opcoes_marmore):\n",
    "    print(\"Opção inválida!\")\n",
    "else:\n",
    "    nome_marmore = list(opcoes_marmore.keys())[escolha]\n",
    "    valor_marmore = list(opcoes_marmore.values())[escolha]\n",
    "    \n",
    "    print(f\"Você escolheu {nome_marmore} que custa R${valor_marmore}.\")\n",
    "    quantidade_metros = float((input(\"Quantos metros vc gostaria de comprar? \")))\n",
    "    valor_compra = quantidade_metros * valor_marmore\n",
    "    print(f\"R${valor_compra:.2f}\")\n"
   ]
  }
 ],
 "metadata": {
  "kernelspec": {
   "display_name": "Python 3",
   "language": "python",
   "name": "python3"
  },
  "language_info": {
   "codemirror_mode": {
    "name": "ipython",
    "version": 3
   },
   "file_extension": ".py",
   "mimetype": "text/x-python",
   "name": "python",
   "nbconvert_exporter": "python",
   "pygments_lexer": "ipython3",
   "version": "3.12.2"
  }
 },
 "nbformat": 4,
 "nbformat_minor": 2
}
