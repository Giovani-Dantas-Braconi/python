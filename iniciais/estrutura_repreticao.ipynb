{
 "cells": [
  {
   "cell_type": "markdown",
   "metadata": {},
   "source": [
    "FOR = WHILE \n",
    "\n",
    "quando for uma LISTA ou seja mais de 1 texto ele irá aparecer os ITENS, caso seja 1 palavra ele irá aparecer os caracteres "
   ]
  },
  {
   "cell_type": "code",
   "execution_count": null,
   "metadata": {},
   "outputs": [],
   "source": [
    "produtos110 = [\"coca\", \"pepsi\", \"guarana\", \"sprite\", \"fanta\"]\n",
    "producao = [15000, 12000, 13000, 5000, 250]\n",
    "teste_caracter = \"Giovani\"\n",
    "teste_texto_comple = [\"Giovani\", \"Dantas\"] \n",
    "\n",
    "\n",
    "ind = len(produtos110)\n",
    "print(ind)\n",
    "\n",
    "for i in range(ind):\n",
    "    print(f\"{produtos110[i]} unidades produzidas de {producao[i]}\")\n",
    "else: \n",
    "    pass\n",
    "\n",
    "\n",
    "for produtos in produtos110:\n",
    "    print(f\"O produto é {produtos}\")\n",
    "\n",
    "else: \n",
    "    pass\n",
    "\n",
    "\n",
    "for ch in teste_texto_comple:\n",
    "    print(ch)"
   ]
  },
  {
   "cell_type": "markdown",
   "metadata": {},
   "source": [
    "for + if "
   ]
  },
  {
   "cell_type": "code",
   "execution_count": null,
   "metadata": {},
   "outputs": [],
   "source": [
    "vendas = [1200, 300, 500,400,55000, 900, 150, 300, 900, 2000, 200, 1800, 4000, 400, 600, 900, 1400, 5400, 6700,4430, 3342, 4000, 4000,7000]\n",
    "meta = 1000\n",
    "\n",
    "\n",
    "qtde_meta = 0\n",
    "qtde_funcionario = len(vendas)\n",
    "for venda in vendas:\n",
    "    if venda >= meta:\n",
    "        print(venda)\n",
    "        qtde_meta += 1 \n",
    "    else:\n",
    "        pass\n",
    "\n",
    "print(\"O percentul de pessoas que bateram a meta foi de {:.2%}\".format(qtde_meta/qtde_funcionario))"
   ]
  },
  {
   "cell_type": "markdown",
   "metadata": {},
   "source": [
    "ENUMERATE E UM EXEMPLO PRATICO"
   ]
  },
  {
   "cell_type": "code",
   "execution_count": null,
   "metadata": {},
   "outputs": [],
   "source": [
    "funcionario_lista412 = [\"Maria\", \"Francisca\", \"Antonia\", \"Frida\", \"Joana\", \"Gabriela\", \"Ana Clara\", \"Antonio\", \"RRenan\", \"lira\", \"lilian\"]\n",
    "\n",
    "for i, funcionario_412 in enumerate(funcionario_lista412):\n",
    "    print(f\"{i} é o funcionario(a) {funcionario_412}\")"
   ]
  },
  {
   "cell_type": "code",
   "execution_count": null,
   "metadata": {},
   "outputs": [],
   "source": [
    "estoque = [1200, 400, 700, 660, 40, 30, 40, 50, 60, 80 ,800, 900, 670, 5605, 4560, 779, 777, 544, 698, 4594, 2392, 29393, 222, 333, 100, 443]\n",
    "produto_estoque = [\"pespi\", \"coca\", \"fanta\", \"guarana\", \"suco de laranja\", \"prato\", \"lixo\", \"grampeador\", \"celuluar\", \"anzol\", \"caneta\", \"capscula\", \"carteira\", \"tesoura\", \"escova\", \"mouse\", \"teclado\", \"agua\", \"carregador\", \"cama\", \"mosquito spray\", \"pelucia\", \"travesseiro\", \"shorts\", \"notificação\", \"computador\"]\n",
    "nivel_minimo = 200\n",
    "\n",
    "for i, qtde in enumerate(estoque): \n",
    "    if qtde <= nivel_minimo:\n",
    "        print(f\"O produto {produto_estoque[i]} está com {qtde} de unidades restantes no estoque\")\n",
    "    else:\n",
    "        pass\n"
   ]
  },
  {
   "cell_type": "markdown",
   "metadata": {},
   "source": [
    "EXERCICIOS DE FOR "
   ]
  },
  {
   "cell_type": "code",
   "execution_count": null,
   "metadata": {},
   "outputs": [],
   "source": [
    "pessoas = int(input(\"quantas pessoas irão ser hospedadas? \"))\n",
    "quarto = []\n",
    "\n",
    "for i in range(pessoas):\n",
    "    nome = input(f\"Qual o nome da pessoa {i}\")\n",
    "    cpf = input(f\"Qual o cpf da pessoa {i}\")\n",
    "    hospedes = [f\"nome da pessoa é {nome}\", \"e o cpf dela é\" f\"{cpf}\"]\n",
    "    quarto.append(hospedes)\n",
    "else:   \n",
    "    pass\n",
    "\n",
    "print(quarto)"
   ]
  },
  {
   "cell_type": "markdown",
   "metadata": {},
   "source": [
    "EXEMPLO DE ANALISE DE DADOS "
   ]
  },
  {
   "cell_type": "code",
   "execution_count": null,
   "metadata": {},
   "outputs": [],
   "source": [
    "meta = 10000\n",
    "vendas = [\n",
    "    {\"Joao\", 1500},\n",
    "    {\"Joseane\", 20000},\n",
    "    {\"elon\", 90000},\n",
    "    {\"Ana\", 100},\n",
    "    {\"Maria\", 300},\n",
    "    {\"Juliana\", 10},\n",
    "]\n",
    "\n",
    "\n",
    "for item in vendas:\n",
    "    if item[1] >= meta:\n",
    "        print(f\"Vendedor {item[0]} bateu a meta. Fez {item[1]} vendas\")\n",
    "    else: \n",
    "        pass"
   ]
  },
  {
   "cell_type": "markdown",
   "metadata": {},
   "source": [
    "EXEMPLO DE COMPARAÇÃO DE VENDAS EM ANOS "
   ]
  },
  {
   "cell_type": "code",
   "execution_count": null,
   "metadata": {},
   "outputs": [],
   "source": [
    "produtos = ['iphone', 'galaxy', 'ipad', 'tv', 'máquina de café', 'kindle', 'geladeira', 'adega', 'notebook dell', 'notebook hp', 'notebook asus', 'microsoft surface', 'webcam', 'caixa de som', 'microfone', 'câmera canon']\n",
    "vendas2019 = [558147,712350,573823,405252,718654,531580,973139,892292,422760,154753,887061,438508,237467,489705,328311,591120]\n",
    "vendas2020 = [951642,244295,26964,787604,867660,78830,710331,646016,694913,539704,324831,667179,295633,725316,644622,994303]\n",
    "#seu código aqui\n",
    "\n",
    "for i, produto in enumerate(produtos):\n",
    "    if vendas2020[i] > vendas2019[i]:\n",
    "        crescimento = vendas2020[i] / vendas2019[i] - 1\n",
    "        print('{} vendeu R${:,} em 2019, R${:,} em 2020 e teve {:.1%} de crescimento'.format(produto, vendas2019[i], vendas2020[i], crescimento))"
   ]
  }
 ],
 "metadata": {
  "kernelspec": {
   "display_name": "Python 3",
   "language": "python",
   "name": "python3"
  },
  "language_info": {
   "codemirror_mode": {
    "name": "ipython",
    "version": 3
   },
   "file_extension": ".py",
   "mimetype": "text/x-python",
   "name": "python",
   "nbconvert_exporter": "python",
   "pygments_lexer": "ipython3",
   "version": "3.12.0"
  }
 },
 "nbformat": 4,
 "nbformat_minor": 2
}
