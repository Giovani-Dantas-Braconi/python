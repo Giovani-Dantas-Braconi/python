{
 "cells": [
  {
   "cell_type": "markdown",
   "metadata": {},
   "source": [
    "# USANDO HERANÇA COM POLIMORFISMO "
   ]
  },
  {
   "cell_type": "code",
   "execution_count": 18,
   "metadata": {},
   "outputs": [
    {
     "name": "stdout",
     "output_type": "stream",
     "text": [
      "O valor do caixa está blz 1000000\n",
      "5000\n",
      "995000\n",
      "O cliente nn tem o patrimonio necessário\n",
      "[]\n",
      "Caixa insuficiente 0\n"
     ]
    }
   ],
   "source": [
    "from random import randint\n",
    "\n",
    "class Agencia:\n",
    "    def __init__(self, telefone, cnpj, numero):\n",
    "        self.telefone = telefone\n",
    "        self.cnpj = cnpj\n",
    "        self.numero = numero\n",
    "        self.clientes = []\n",
    "        self.caixa = 0\n",
    "        self.emprestimos = []\n",
    "\n",
    "    def verificar_caixa(self):\n",
    "        if self.caixa < 1000000:\n",
    "            print(f\"Caixa insuficiente {self.caixa}\")\n",
    "        else:\n",
    "            print(f\"O valor do caixa está blz {self.caixa}\")\n",
    "\n",
    "    def emprestar_dinheiro(self, valor, cpf, juros):\n",
    "        if self.caixa > valor:\n",
    "            self.emprestimos.append((valor, cpf, juros))\n",
    "        else:\n",
    "            print(\"Caixa insuficiente\")\n",
    "\n",
    "\n",
    "    def adicionar_cliente(self, nome, cpf, patrimonio):\n",
    "        self.clientes.append((nome, cpf, patrimonio))\n",
    "\n",
    "\n",
    "class AgenciaVirtual(Agencia):\n",
    "    def __init__(self, site, telefone, cnpj):\n",
    "        self.site = site\n",
    "        super().__init__(telefone, cnpj, 1000)\n",
    "        self.caixa = 1000000\n",
    "        self.caixa_paypal = 0\n",
    "\n",
    "    def depositarPaypal(self, valor):\n",
    "        self.caixa -= valor\n",
    "        self.caixa_paypal += valor\n",
    "\n",
    "\n",
    "    def sacarPaypal(self, valor):\n",
    "        self.caixa += valor\n",
    "        self.caixa_paypal -= valor \n",
    "    \n",
    "    def adicionar_cliente(self, nome, cpf, patrimonio):\n",
    "        if patrimonio > 1000000:\n",
    "            return super().adicionar_cliente(nome, cpf, patrimonio)\n",
    "        else:\n",
    "            print(\"O cliente nn tem o patrimonio necessário\")\n",
    "\n",
    "\n",
    "\n",
    "\n",
    "\n",
    "class AgenciaNormal(Agencia):\n",
    "    def __init__(self, telefone, cnpj, numero):\n",
    "        super().__init__(telefone, cnpj, numero)\n",
    "    \n",
    "\n",
    "\n",
    "class AgenciaPremium(Agencia):\n",
    "    def __init__(self, telefone, cnpj, numero):\n",
    "        super().__init__(telefone, cnpj, numero)\n",
    "\n",
    "\n",
    "\n",
    "agenciaOnline = AgenciaVirtual(\"www.siteonline.com\", 121212, 456676)\n",
    "agenciaOnline.verificar_caixa()\n",
    "agenciaOnline.depositarPaypal(10000)\n",
    "agenciaOnline.sacarPaypal(5000)\n",
    "print(agenciaOnline.caixa_paypal)\n",
    "print(agenciaOnline.caixa)\n",
    "agenciaOnline.adicionar_cliente(\"Fabio\", 23232323, 10 )\n",
    "agenciaNormal = AgenciaNormal(1111111111111, 44444444, 999999999999999999)\n",
    "print(agenciaOnline.clientes)\n",
    "agenciaNormal.verificar_caixa()\n",
    "\n"
   ]
  },
  {
   "cell_type": "code",
   "execution_count": null,
   "metadata": {},
   "outputs": [],
   "source": []
  }
 ],
 "metadata": {
  "kernelspec": {
   "display_name": "Python 3",
   "language": "python",
   "name": "python3"
  },
  "language_info": {
   "codemirror_mode": {
    "name": "ipython",
    "version": 3
   },
   "file_extension": ".py",
   "mimetype": "text/x-python",
   "name": "python",
   "nbconvert_exporter": "python",
   "pygments_lexer": "ipython3",
   "version": "3.12.2"
  }
 },
 "nbformat": 4,
 "nbformat_minor": 2
}
